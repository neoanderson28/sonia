{
 "cells": [
  {
   "cell_type": "code",
   "execution_count": 1,
   "id": "fffc4f3f-4ed8-4e7e-8eb2-ef325687ed5c",
   "metadata": {},
   "outputs": [],
   "source": [
    "from representations import get_ffly_by_leg,get_reps,get_sprd_by_leg_n_width\n",
    "from reference import CombinedMetaData, FutureMetaData, \\\n",
    "                      StrategyMetaData\n",
    "from tqdm import tqdm\n",
    "from randrun import sort_family\n",
    "from pathlib import Path\n",
    "from box import Box\n",
    "import pandas as pd\n",
    "import numpy as np\n",
    "from functools import reduce\n",
    "from datetime import datetime\n",
    "from utils import *"
   ]
  },
  {
   "cell_type": "code",
   "execution_count": 2,
   "id": "d1ae258d-98b2-43c9-b20b-1ccecd67ca0f",
   "metadata": {},
   "outputs": [],
   "source": [
    "path_to_data = '~/Desktop/algo/data'"
   ]
  },
  {
   "cell_type": "code",
   "execution_count": 3,
   "id": "b12c8d88-dbcf-4a1c-81c6-afe3b3e02041",
   "metadata": {},
   "outputs": [],
   "source": [
    "refdata = CombinedMetaData.load('data/metadata.pickle')\n",
    "get_reps(refdata) # maybe should be done once and saved\n",
    "family = {rinst.code:cc.Instrument.fromReferenceData(rinst) for rinst in refdata.values()}\n",
    "family = sort_family(family)\n",
    "change_names(family)"
   ]
  },
  {
   "cell_type": "code",
   "execution_count": 4,
   "id": "c67afebb-a195-4294-abda-e5e33b345097",
   "metadata": {},
   "outputs": [
    {
     "name": "stderr",
     "output_type": "stream",
     "text": [
      "100%|██████████████████████████████████████████████████████████████████████████████████████████████████████████████████████████████| 131/131 [07:26<00:00,  3.41s/it]\n"
     ]
    }
   ],
   "source": [
    "list_w_dfs = get_data(path_to_data)"
   ]
  },
  {
   "cell_type": "code",
   "execution_count": null,
   "id": "561177cb-cebb-491a-8468-a223caf11147",
   "metadata": {},
   "outputs": [],
   "source": [
    "#HI,\n",
    "#THIS IS A NOTEBOOK THAT PRESENTS A TRADING STRATEGY USING SONIA STRATEGY PRODUCTS - BOX\n",
    "#PLEASE NOTICE THAT THE TRADING EXAMPLE IS ONLY FOR SPECIFIC EXPIRATION CONTRACT (DEC24)"
   ]
  },
  {
   "cell_type": "code",
   "execution_count": null,
   "id": "1abbc726-b004-42fd-971b-194984ba8b84",
   "metadata": {},
   "outputs": [],
   "source": [
    "#############################################################################################################################"
   ]
  },
  {
   "cell_type": "code",
   "execution_count": null,
   "id": "7c6385e4-6bbc-4968-9867-efdfdab8269d",
   "metadata": {},
   "outputs": [],
   "source": [
    "#############################################################################################################################"
   ]
  },
  {
   "cell_type": "code",
   "execution_count": 32,
   "id": "38133398-caee-4a95-b632-0ce1c76d77e1",
   "metadata": {},
   "outputs": [],
   "source": [
    "b = Box(name='Dec24', refdata=refdata)"
   ]
  },
  {
   "cell_type": "code",
   "execution_count": 33,
   "id": "fdbde006-e0f6-4dcf-a13b-66a08b3b6ff4",
   "metadata": {},
   "outputs": [
    {
     "data": {
      "text/plain": [
       "{'r1': [['615040908', 1], ['615040909', -1]],\n",
       " 'r2': [['614870250', 1], ['614828915', -3]]}"
      ]
     },
     "execution_count": 33,
     "metadata": {},
     "output_type": "execute_result"
    }
   ],
   "source": [
    "b.reps"
   ]
  },
  {
   "cell_type": "code",
   "execution_count": 34,
   "id": "aa162613-ac89-42c6-9cd7-ee841665cc62",
   "metadata": {},
   "outputs": [],
   "source": [
    "#create codes_n_names:\n",
    "codes_n_names = {}\n",
    "for r in b.reps.values():\n",
    "    codes_n_names[int(r[0][0])] = refdata[int(r[0][0])].description\n",
    "    codes_n_names[int(r[1][0])] = refdata[int(r[1][0])].description"
   ]
  },
  {
   "cell_type": "code",
   "execution_count": 35,
   "id": "86d44f6b-409f-4271-852c-5daaa8c7a83d",
   "metadata": {},
   "outputs": [
    {
     "data": {
      "text/plain": [
       "{615040908: 'Dec24/Mar25--Mar25/Jun25',\n",
       " 615040909: 'Mar25/Jun25--Jun25/Sep25',\n",
       " 614870250: 'Dec24/Sep25',\n",
       " 614828915: 'Mar25/Jun25'}"
      ]
     },
     "execution_count": 35,
     "metadata": {},
     "output_type": "execute_result"
    }
   ],
   "source": [
    "codes_n_names"
   ]
  },
  {
   "cell_type": "code",
   "execution_count": 36,
   "id": "b66974e2-16c2-4f4e-ad21-55a5ea52178f",
   "metadata": {},
   "outputs": [
    {
     "name": "stderr",
     "output_type": "stream",
     "text": [
      "100%|██████████████████████████████████████████████████████████████████████████████████████████████████████████████████████████████████| 4/4 [00:03<00:00,  1.00it/s]\n"
     ]
    }
   ],
   "source": [
    "dct_for_data = get_ticks_by_codes(codes_n_names, list_w_dfs)"
   ]
  },
  {
   "cell_type": "code",
   "execution_count": 37,
   "id": "94ec9c12-79e9-4eea-b0b0-1b8867816248",
   "metadata": {
    "scrolled": true
   },
   "outputs": [],
   "source": [
    "df_merged = reduce(lambda left,right: pd.merge(left,right,on=['TradeEvent_MarketTimestamp'], \n",
    "                                               how='outer'), list(dct_for_data.values()))\n",
    "df_merged['timestamp']=df_merged['TradeEvent_MarketTimestamp'].apply(lambda x: str(datetime.fromtimestamp(x/1e6)))\n",
    "# df_merged.dropna(inplace=True)\n",
    "df_merged.sort_values(by = 'timestamp', inplace=True)"
   ]
  },
  {
   "cell_type": "code",
   "execution_count": 38,
   "id": "54d6f4a1-b5d6-4cc6-855a-86b28645cd29",
   "metadata": {},
   "outputs": [],
   "source": [
    "del dct_for_data"
   ]
  },
  {
   "cell_type": "code",
   "execution_count": 39,
   "id": "ebe91474-aad2-4cff-b5b2-42cc4c1aeda8",
   "metadata": {},
   "outputs": [
    {
     "data": {
      "text/plain": [
       "174"
      ]
     },
     "execution_count": 39,
     "metadata": {},
     "output_type": "execute_result"
    }
   ],
   "source": [
    "import gc\n",
    "gc.collect()"
   ]
  },
  {
   "cell_type": "code",
   "execution_count": 40,
   "id": "f9d91bd9-db00-4b5c-83e8-1e5849cb066e",
   "metadata": {},
   "outputs": [],
   "source": [
    "df_merged['box_bid_sprd_fly'] = df_merged[f'TradeEvent_BestBid_Price_{codes_n_names[list(codes_n_names.keys())[0]]}'] -\\\n",
    "                                df_merged[f'TradeEvent_BestAsk_Price_{codes_n_names[list(codes_n_names.keys())[1]]}']\n",
    "\n",
    "\n",
    "df_merged['box_ask_sprd_fly'] = df_merged[f'TradeEvent_BestAsk_Price_{codes_n_names[list(codes_n_names.keys())[0]]}'] -\\\n",
    "                                df_merged[f'TradeEvent_BestBid_Price_{codes_n_names[list(codes_n_names.keys())[1]]}']\n",
    "\n",
    "\n",
    "df_merged['box_bid_9m_sprd'] = df_merged[f'TradeEvent_BestBid_Price_{codes_n_names[list(codes_n_names.keys())[2]]}']  -\\\n",
    "    3*df_merged[f'TradeEvent_BestAsk_Price_{codes_n_names[list(codes_n_names.keys())[3]]}']\n",
    "\n",
    "df_merged['box_ask_9m_sprd'] = df_merged[f'TradeEvent_BestAsk_Price_{codes_n_names[list(codes_n_names.keys())[2]]}'] -\\\n",
    "    3*df_merged[f'TradeEvent_BestBid_Price_{codes_n_names[list(codes_n_names.keys())[3]]}']"
   ]
  },
  {
   "cell_type": "code",
   "execution_count": 41,
   "id": "b06d806c-3eda-44af-9317-3497342b8fef",
   "metadata": {},
   "outputs": [],
   "source": [
    "df_merged['best_bid_box'] = df_merged[['box_bid_9m_sprd','box_bid_sprd_fly']].ffill().\\\n",
    "                                                                                        max(axis=1)\n",
    "df_merged['best_ask_box'] = df_merged[['box_ask_9m_sprd','box_ask_sprd_fly']].ffill().\\\n",
    "                                                                                        min(axis=1)"
   ]
  },
  {
   "cell_type": "code",
   "execution_count": 42,
   "id": "0f415c43-7f28-4a14-8e6f-484b1c72b938",
   "metadata": {},
   "outputs": [
    {
     "data": {
      "text/plain": [
       "<matplotlib.lines.Line2D at 0x78781971c3e0>"
      ]
     },
     "execution_count": 42,
     "metadata": {},
     "output_type": "execute_result"
    },
    {
     "data": {
      "image/png": "[encoded data removed]",
      "text/plain": [
       "<Figure size 1200x500 with 1 Axes>"
      ]
     },
     "metadata": {},
     "output_type": "display_data"
    }
   ],
   "source": [
    "ax = df_merged.plot(x = 'timestamp', y = ['best_bid_box','best_ask_box'], rot = 90, figsize= (12,5))\n",
    "ax.axhline(0, color=\"red\", linestyle=\"--\")"
   ]
  },
  {
   "cell_type": "code",
   "execution_count": 43,
   "id": "fb285232-e7b5-493b-aa71-911235a26eb4",
   "metadata": {},
   "outputs": [],
   "source": [
    "df_bb = df_merged[['best_bid_box','best_ask_box','timestamp']]\n",
    "df_bb.reset_index(inplace=True)\n",
    "df_bb = df_bb.drop_duplicates(subset=['best_bid_box','best_ask_box','timestamp'])\n",
    "df_bb.drop(labels=df_bb[df_bb['best_bid_box']>=df_bb['best_ask_box']].index, axis=0, inplace=True)"
   ]
  },
  {
   "cell_type": "code",
   "execution_count": 44,
   "id": "ef07f11a-981e-45a3-a13f-ce3682a4d420",
   "metadata": {},
   "outputs": [
    {
     "name": "stderr",
     "output_type": "stream",
     "text": [
      "14434265it [00:14, 993992.76it/s] \n"
     ]
    }
   ],
   "source": [
    "pos_long=0\n",
    "pos_short=0\n",
    "longs = {}\n",
    "shorts = {}\n",
    "for tup in tqdm(df_bb.itertuples()):\n",
    "\n",
    "    best_ask = round(tup.best_ask_box, 5)\n",
    "    best_bid  = round(tup.best_bid_box, 5)\n",
    "    \n",
    "    if pos_long==0: \n",
    "        if best_ask <= -0.005: # half tick below theoretical mean\n",
    "            last_price_l = best_ask\n",
    "            longs[tup.timestamp] = {'buy':best_ask}#[1,best_ask, 'buy']\n",
    "            pos_long+=1\n",
    "            \n",
    "    if pos_short==0:\n",
    "        if best_bid >= 0.005:\n",
    "            last_price_s = best_bid\n",
    "            shorts[tup.timestamp] = {'sell':best_bid}#[1,best_bid, 'sell']\n",
    "            pos_short+=1\n",
    "            \n",
    "    if pos_long>0 or pos_short>0:\n",
    "        \n",
    "        \n",
    "        if pos_long>0:\n",
    "            if last_price_l > best_ask:\n",
    "                longs[tup.timestamp] = {'buy':best_ask}#[1, best_ask, 'buy']\n",
    "                last_price_l = best_ask\n",
    "                pos_long+=1\n",
    "            elif best_bid > last_price_l:\n",
    "                longs[tup.timestamp] = {'sell':best_bid}#[1, best_bid, 'sell']\n",
    "                last_price_l = best_bid\n",
    "                pos_long-=1\n",
    "            \n",
    "        elif pos_short>0:\n",
    "            if last_price_s > best_ask:\n",
    "                shorts[tup.timestamp] = {'buy':best_ask}#[1,best_ask, 'buy']\n",
    "                pos_short-=1\n",
    "                last_price_s = best_ask\n",
    "                \n",
    "            elif last_price_s < best_bid:\n",
    "                shorts[tup.timestamp] = {'sell':best_bid}#[1,best_bid, 'sell']\n",
    "                last_price_s = best_bid\n",
    "                pos_short+=1"
   ]
  },
  {
   "cell_type": "code",
   "execution_count": 45,
   "id": "7edb3e0d-35db-463e-98c3-e207dd98c123",
   "metadata": {},
   "outputs": [
    {
     "name": "stdout",
     "output_type": "stream",
     "text": [
      "0.08500000000000002\n"
     ]
    }
   ],
   "source": [
    "buys = []\n",
    "sells = []\n",
    "for t in shorts: \n",
    "    if 'buy' in shorts[t]:\n",
    "        buys.append(shorts[t]['buy'])\n",
    "    else:\n",
    "        sells.append(shorts[t]['sell'])\n",
    "try:\n",
    "    print(sum(np.array(sells[:len(buys)]) - np.array(buys)))\n",
    "except:\n",
    "    print(sum(np.array(sells) - np.array(buys[:len(sells)])))"
   ]
  },
  {
   "cell_type": "code",
   "execution_count": 46,
   "id": "cfed85a9-1758-42b6-bd46-773778483f55",
   "metadata": {},
   "outputs": [
    {
     "name": "stdout",
     "output_type": "stream",
     "text": [
      "18 19\n"
     ]
    }
   ],
   "source": [
    "print(len(buys),len(sells)) # THE DIFF IS AMOUNT OF OPEN ORDERS"
   ]
  },
  {
   "cell_type": "code",
   "execution_count": 48,
   "id": "cf7ff134-0d85-4127-ac88-a97aa322e822",
   "metadata": {},
   "outputs": [
    {
     "name": "stdout",
     "output_type": "stream",
     "text": [
      "23 23\n"
     ]
    }
   ],
   "source": [
    "print(len(buys),len(sells)) # THE DIFF IS AMOUNT OF OPEN ORDERS"
   ]
  },
  {
   "cell_type": "code",
   "execution_count": 57,
   "id": "f84b406f-c066-422a-99c0-b9a1c074f604",
   "metadata": {},
   "outputs": [
    {
     "name": "stdout",
     "output_type": "stream",
     "text": [
      "0.11500000000000002\n"
     ]
    }
   ],
   "source": [
    "buys = []\n",
    "sells = []\n",
    "for t in longs: \n",
    "    if 'buy' in longs[t]:\n",
    "        buys.append(longs[t]['buy'])\n",
    "    else:\n",
    "        sells.append(longs[t]['sell'])\n",
    "try:\n",
    "    print(sum(-np.array(buys) + np.array(sells[:len(buys)])))\n",
    "except:\n",
    "    print(sum(-np.array(buys[:len(sells)]) + np.array(sells)))"
   ]
  },
  {
   "cell_type": "code",
   "execution_count": 49,
   "id": "4181b0bf-472e-49ee-9702-02ea55cd03fd",
   "metadata": {
    "scrolled": true
   },
   "outputs": [
    {
     "data": {
      "text/plain": [
       "{'2023-12-01 08:03:00.107491': {'sell': 0.005},\n",
       " '2023-12-01 12:55:21.748705': {'buy': 0.0},\n",
       " '2023-12-08 13:01:00.734110': {'sell': 0.005},\n",
       " '2023-12-12 13:16:01.401225': {'buy': 0.0},\n",
       " '2023-12-20 09:30:20.131875': {'sell': 0.005},\n",
       " '2023-12-20 09:30:54.993635': {'buy': 0.0},\n",
       " '2023-12-21 18:24:30.213988': {'sell': 0.005},\n",
       " '2023-12-27 16:06:23.634615': {'sell': 0.01},\n",
       " '2023-12-28 18:22:40.901765': {'buy': 0.005},\n",
       " '2024-01-02 10:38:27.466645': {'buy': 0.0},\n",
       " '2024-01-22 10:08:09.218504': {'sell': 0.005},\n",
       " '2024-01-25 15:57:05.797187': {'buy': 0.0},\n",
       " '2024-02-02 16:29:32.532249': {'sell': 0.005},\n",
       " '2024-02-05 15:26:16.808462': {'buy': 0.0},\n",
       " '2024-02-13 09:30:12.714542': {'sell': 0.005},\n",
       " '2024-02-13 17:33:21.023640': {'sell': 0.01},\n",
       " '2024-02-13 18:51:01.687678': {'buy': 0.005},\n",
       " '2024-02-15 11:02:43.078076': {'buy': 0.0},\n",
       " '2024-02-19 13:06:28.038050': {'sell': 0.005},\n",
       " '2024-02-20 11:17:25.532171': {'buy': 0.0},\n",
       " '2024-03-05 11:02:00.465620': {'sell': 0.005},\n",
       " '2024-03-06 16:44:46.671416': {'buy': 0.0},\n",
       " '2024-04-11 15:15:56.335261': {'sell': 0.005},\n",
       " '2024-04-12 09:49:19.628389': {'buy': 0.0},\n",
       " '2024-04-15 09:31:09.404651': {'sell': 0.005},\n",
       " '2024-04-15 13:41:59.440660': {'buy': 0.0},\n",
       " '2024-04-17 09:31:30.486256': {'sell': 0.005},\n",
       " '2024-04-17 09:35:28.883701': {'buy': 0.0},\n",
       " '2024-04-18 18:28:43.860769': {'sell': 0.005},\n",
       " '2024-04-19 09:33:01.858694': {'buy': 0.0},\n",
       " '2024-04-19 09:35:12.207934': {'sell': 0.005},\n",
       " '2024-04-19 10:38:43.920907': {'buy': 0.0},\n",
       " '2024-04-26 13:56:37.003279': {'sell': 0.005},\n",
       " '2024-05-09 14:40:10.865223': {'buy': 0.0},\n",
       " '2024-05-09 18:14:03.580310': {'sell': 0.005},\n",
       " '2024-05-16 12:03:08.228052': {'sell': 0.01},\n",
       " '2024-05-24 14:25:49.305889': {'buy': 0.005}}"
      ]
     },
     "execution_count": 49,
     "metadata": {},
     "output_type": "execute_result"
    }
   ],
   "source": [
    "shorts"
   ]
  },
  {
   "cell_type": "code",
   "execution_count": 167,
   "id": "13a1fc06-7aa8-4edf-a0c4-fdc2d78d4223",
   "metadata": {
    "scrolled": true
   },
   "outputs": [
    {
     "data": {
      "text/plain": [
       "{'2023-12-11 14:29:38.096022': {'buy': -0.005},\n",
       " '2023-12-12 14:17:40.486939': {'sell': -0.0},\n",
       " '2023-12-12 15:54:04.487034': {'buy': -0.005},\n",
       " '2023-12-13 11:28:06.280591': {'sell': 0.0},\n",
       " '2023-12-19 18:49:58.465360': {'buy': -0.005},\n",
       " '2023-12-20 09:30:08.745951': {'sell': 0.0},\n",
       " '2023-12-20 09:30:25.571422': {'buy': -0.005},\n",
       " '2023-12-20 09:33:56.625163': {'buy': -0.01},\n",
       " '2023-12-20 09:42:36.990495': {'buy': -0.015},\n",
       " '2023-12-20 09:46:23.005559': {'buy': -0.02},\n",
       " '2023-12-20 09:56:02.509651': {'buy': -0.025},\n",
       " '2023-12-20 10:28:50.293171': {'sell': -0.02},\n",
       " '2023-12-20 12:38:14.219933': {'sell': -0.015},\n",
       " '2023-12-20 12:48:42.511436': {'sell': -0.01},\n",
       " '2023-12-20 15:56:53.613438': {'buy': -0.015},\n",
       " '2023-12-20 16:56:52.313135': {'buy': -0.02},\n",
       " '2023-12-20 17:27:56.975277': {'sell': -0.015},\n",
       " '2023-12-20 18:56:52.495586': {'buy': -0.02},\n",
       " '2023-12-20 19:48:03.430874': {'buy': -0.025},\n",
       " '2023-12-21 10:35:11.406358': {'buy': -0.03},\n",
       " '2023-12-21 17:10:54.044795': {'sell': -0.025},\n",
       " '2023-12-22 09:30:42.088027': {'buy': -0.03},\n",
       " '2023-12-22 12:31:27.991232': {'sell': -0.025},\n",
       " '2023-12-22 14:14:22.343423': {'sell': -0.02},\n",
       " '2023-12-28 11:05:36.964339': {'buy': -0.025},\n",
       " '2023-12-29 11:39:35.003767': {'sell': -0.02},\n",
       " '2023-12-29 13:05:16.740912': {'buy': -0.025},\n",
       " '2024-01-02 15:46:44.165411': {'buy': -0.03},\n",
       " '2024-01-02 17:44:42.630946': {'buy': -0.035},\n",
       " '2024-01-03 10:22:32.668196': {'sell': -0.03},\n",
       " '2024-01-03 18:37:32.672362': {'buy': -0.035},\n",
       " '2024-01-04 11:47:10.998618': {'sell': -0.03},\n",
       " '2024-01-05 09:30:14.806269': {'buy': -0.035},\n",
       " '2024-01-05 11:42:05.014185': {'buy': -0.04},\n",
       " '2024-01-05 17:24:10.198949': {'buy': -0.045},\n",
       " '2024-01-08 10:31:02.102883': {'sell': -0.04},\n",
       " '2024-01-09 16:38:43.731755': {'sell': -0.035},\n",
       " '2024-01-11 15:30:02.284991': {'sell': -0.03},\n",
       " '2024-01-11 16:37:49.404614': {'buy': -0.035},\n",
       " '2024-01-12 10:40:21.615991': {'buy': -0.04},\n",
       " '2024-01-12 15:38:55.208644': {'sell': -0.035},\n",
       " '2024-01-12 16:05:04.835307': {'buy': -0.04},\n",
       " '2024-01-15 15:29:36.269880': {'sell': -0.035},\n",
       " '2024-01-15 18:34:51.112964': {'sell': -0.03},\n",
       " '2024-01-16 11:26:03.078425': {'sell': -0.025},\n",
       " '2024-01-16 13:49:47.493341': {'sell': -0.02},\n",
       " '2024-01-16 15:45:04.886870': {'sell': -0.015},\n",
       " '2024-01-17 15:16:16.294084': {'sell': -0.01},\n",
       " '2024-01-17 15:35:04.926913': {'sell': -0.005},\n",
       " '2024-01-17 17:54:35.023403': {'sell': 0.0},\n",
       " '2024-01-17 18:37:21.041924': {'buy': -0.005},\n",
       " '2024-01-17 18:45:35.167675': {'buy': -0.01},\n",
       " '2024-01-18 09:43:56.021943': {'sell': -0.005},\n",
       " '2024-01-18 11:59:55.520189': {'buy': -0.01},\n",
       " '2024-01-18 13:21:04.788425': {'sell': -0.005},\n",
       " '2024-01-18 15:30:00.541508': {'sell': 0.0},\n",
       " '2024-01-18 18:55:10.901511': {'buy': -0.005},\n",
       " '2024-01-19 12:12:31.985387': {'buy': -0.01},\n",
       " '2024-01-19 17:38:21.892996': {'sell': -0.005},\n",
       " '2024-01-22 15:22:26.375774': {'buy': -0.01},\n",
       " '2024-01-22 18:22:46.337349': {'sell': -0.005},\n",
       " '2024-01-23 14:04:10.452436': {'buy': -0.01},\n",
       " '2024-01-23 18:10:31.484805': {'sell': -0.005},\n",
       " '2024-01-24 15:15:57.490614': {'sell': 0.0},\n",
       " '2024-01-31 13:01:14.395783': {'buy': -0.005},\n",
       " '2024-02-01 09:32:12.574696': {'sell': 0.0},\n",
       " '2024-02-01 13:20:26.017016': {'buy': -0.005},\n",
       " '2024-02-01 16:00:36.887093': {'sell': 0.0},\n",
       " '2024-02-08 18:12:56.583754': {'buy': -0.005},\n",
       " '2024-02-09 15:44:07.733034': {'sell': 0.0},\n",
       " '2024-02-29 12:24:20.458137': {'buy': -0.005},\n",
       " '2024-03-04 12:56:39.236243': {'sell': -0.0},\n",
       " '2024-04-10 15:54:44.736258': {'buy': -0.005},\n",
       " '2024-04-10 16:57:58.119740': {'buy': -0.01},\n",
       " '2024-04-11 09:34:44.960154': {'buy': -0.015},\n",
       " '2024-04-11 09:36:54.151886': {'buy': -0.02},\n",
       " '2024-04-11 10:01:34.815584': {'buy': -0.025},\n",
       " '2024-04-11 10:02:15.849849': {'buy': -0.03},\n",
       " '2024-04-11 10:16:30.461749': {'sell': -0.025},\n",
       " '2024-04-12 10:30:00.733031': {'sell': -0.02},\n",
       " '2024-04-12 15:32:33.957784': {'sell': -0.015},\n",
       " '2024-04-16 19:17:43.783382': {'sell': -0.01},\n",
       " '2024-04-17 13:15:06.552335': {'sell': -0.005},\n",
       " '2024-04-17 14:02:34.760969': {'sell': 0.0},\n",
       " '2024-04-17 15:24:53.921594': {'buy': -0.005},\n",
       " '2024-04-18 11:16:23.279623': {'sell': 0.0},\n",
       " '2024-04-22 12:13:07.845074': {'buy': -0.005},\n",
       " '2024-04-22 15:24:11.540971': {'buy': -0.01},\n",
       " '2024-04-23 09:37:40.814521': {'sell': -0.005},\n",
       " '2024-04-23 10:10:53.805224': {'buy': -0.01},\n",
       " '2024-04-23 16:45:45.921274': {'buy': -0.015},\n",
       " '2024-04-24 17:13:34.701476': {'sell': -0.01},\n",
       " '2024-05-01 12:04:12.190096': {'buy': -0.015},\n",
       " '2024-05-02 09:30:05.365213': {'sell': -0.01},\n",
       " '2024-05-02 12:54:26.218861': {'sell': -0.005},\n",
       " '2024-05-02 15:04:50.734863': {'sell': 0.0},\n",
       " '2024-05-03 15:30:20.400929': {'buy': -0.005},\n",
       " '2024-05-03 15:31:30.513281': {'sell': 0.0},\n",
       " '2024-05-13 18:42:44.743687': {'buy': -0.005},\n",
       " '2024-05-15 19:58:44.125313': {'sell': 0.0},\n",
       " '2024-05-24 15:54:51.372432': {'buy': -0.005},\n",
       " '2024-05-29 09:30:00.501763': {'buy': -0.01},\n",
       " '2024-05-31 15:34:38.820961': {'sell': -0.005}}"
      ]
     },
     "execution_count": 167,
     "metadata": {},
     "output_type": "execute_result"
    }
   ],
   "source": [
    "longs"
   ]
  },
  {
   "cell_type": "code",
   "execution_count": null,
   "id": "d1c02d0d-4b42-447b-afba-e9ceff6b8ce4",
   "metadata": {},
   "outputs": [],
   "source": [
    "#####################################################################################################"
   ]
  },
  {
   "cell_type": "code",
   "execution_count": null,
   "id": "e7008cf0-a0b0-4c7d-b662-6c04a3209e61",
   "metadata": {},
   "outputs": [],
   "source": [
    "#####################################################################################################"
   ]
  },
  {
   "cell_type": "code",
   "execution_count": null,
   "id": "4c6db212-8fb2-4a74-b120-5171f3b79cfa",
   "metadata": {},
   "outputs": [],
   "source": [
    "###LIMIT ORDERS-----^ instead of MARKET###"
   ]
  }
 ],
 "metadata": {
  "kernelspec": {
   "display_name": "Python 3 (ipykernel)",
   "language": "python",
   "name": "python3"
  },
  "language_info": {
   "codemirror_mode": {
    "name": "ipython",
    "version": 3
   },
   "file_extension": ".py",
   "mimetype": "text/x-python",
   "name": "python",
   "nbconvert_exporter": "python",
   "pygments_lexer": "ipython3",
   "version": "3.12.2"
  }
 },
 "nbformat": 4,
 "nbformat_minor": 5
}
